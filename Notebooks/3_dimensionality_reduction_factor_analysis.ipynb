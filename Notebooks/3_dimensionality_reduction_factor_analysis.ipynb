{
 "cells": [
  {
   "cell_type": "markdown",
   "id": "9f257120",
   "metadata": {},
   "source": [
    "# Sub-task 3: Dimensionality Reduction"
   ]
  },
  {
   "cell_type": "code",
   "execution_count": null,
   "id": "e6771df5",
   "metadata": {},
   "outputs": [
    {
     "data": {
      "text/html": [
       "<div>\n",
       "<style scoped>\n",
       "    .dataframe tbody tr th:only-of-type {\n",
       "        vertical-align: middle;\n",
       "    }\n",
       "\n",
       "    .dataframe tbody tr th {\n",
       "        vertical-align: top;\n",
       "    }\n",
       "\n",
       "    .dataframe thead th {\n",
       "        text-align: right;\n",
       "    }\n",
       "</style>\n",
       "<table border=\"1\" class=\"dataframe\">\n",
       "  <thead>\n",
       "    <tr style=\"text-align: right;\">\n",
       "      <th></th>\n",
       "      <th>condition</th>\n",
       "      <th>grade</th>\n",
       "      <th>sqft_above</th>\n",
       "      <th>sqft_basement</th>\n",
       "      <th>sqft_living15</th>\n",
       "    </tr>\n",
       "  </thead>\n",
       "  <tbody>\n",
       "    <tr>\n",
       "      <th>Factor 1</th>\n",
       "      <td>-0.069158</td>\n",
       "      <td>0.821462</td>\n",
       "      <td>0.783974</td>\n",
       "      <td>0.443730</td>\n",
       "      <td>0.814919</td>\n",
       "    </tr>\n",
       "    <tr>\n",
       "      <th>Factor 2</th>\n",
       "      <td>0.242419</td>\n",
       "      <td>-0.235148</td>\n",
       "      <td>-0.477194</td>\n",
       "      <td>0.837199</td>\n",
       "      <td>-0.192526</td>\n",
       "    </tr>\n",
       "  </tbody>\n",
       "</table>\n",
       "</div>"
      ],
      "text/plain": [
       "          condition     grade  sqft_above  sqft_basement  sqft_living15\n",
       "Factor 1  -0.069158  0.821462    0.783974       0.443730       0.814919\n",
       "Factor 2   0.242419 -0.235148   -0.477194       0.837199      -0.192526"
      ]
     },
     "execution_count": 36,
     "metadata": {},
     "output_type": "execute_result"
    }
   ],
   "source": [
    "import pandas as pd\n",
    "from sklearn.decomposition import FactorAnalysis\n",
    "from sklearn.preprocessing import StandardScaler\n",
    "\n",
    "# Load the data\n",
    "file_path = 'C:\\\\Users\\\\glawi\\\\OneDrive\\\\Desktop\\\\New folder\\\\ML Course work 2\\\\kc_house_data_reduced.csv'\n",
    "df = pd.read_csv(file_path)\n",
    "\n",
    "# Assuming the non-price aspects (features) are everything except the price column\n",
    "# Extract features and target variable\n",
    "X = df.drop('price', axis=1)  # Features\n",
    "y = df['price']  # Target variable\n",
    "\n",
    "# Standardize the features\n",
    "scaler = StandardScaler()\n",
    "X_scaled = scaler.fit_transform(X)\n",
    "\n",
    "# Apply Factor Analysis\n",
    "fa = FactorAnalysis(n_components=2, random_state=0)\n",
    "fa.fit(X_scaled)\n",
    "\n",
    "# Get the factor loadings (components)\n",
    "components = fa.components_\n",
    "\n",
    "# Show the components\n",
    "components_df = pd.DataFrame(components, columns=X.columns, index=['Factor 1', 'Factor 2'])\n",
    "components_df"
   ]
  },
  {
   "cell_type": "markdown",
   "id": "716de42f",
   "metadata": {},
   "source": [
    "**.   Factor 1** appears to have a correlation with the overall quality and size of the living area above ground. The positive loadings on 'grade' and 'sqft_above' indicate that this factor reflects the construction quality and living space above ground which're important factors in determining a houses price. Additionally the high loading on 'sqft_living15' representing the size of living spaces in nearby houses suggests that this factor also takes into account the quality and size of the surrounding neighborhood.\n",
    "\n",
    "**.   Factor 2** has a positive loading on 'sqft_basement' indicating that it captures aspects related to basement size. The negative loadings on 'grade' and 'sqft_above' along with a negative loading on 'sqft_living15' imply that as basement size increases the significance of above ground features and neighboring living spaces may decrease in influencing a houses price. The positive loading, on 'condition' suggests that better condition is correlated with basement sizes or may reflect other aspects of the property not captured by Factor 1.\n",
    "\n",
    "Based on these interpretations it can be concluded that Factor 1 represents the \"Quality and Size of Living Area\" emphasizing construction quality and living space dimensions as elements.\n",
    "Factor 2 might be considered as a factor related to the basement and overall condition of the house highlighting the significance of basement size and the general state of the property.\n",
    "\n",
    "These factors are understandable and correlate with the idea that non price aspects in the dataset can be represented using hidden variables for quality and size. Factor 1 appears to represent the 'quality' aspect through features like 'grade' and 'sqft_living15' while Factor 2 captures the 'size' factor through 'sqft_basement' while also being influenced by the 'condition'.\n",
    "\n",
    "The interpretability of factor analysis greatly relies on context and domain knowledge. In this case these factors do seem interpretable and align, with common sense understandings of what could impact house prices.\n"
   ]
  }
 ],
 "metadata": {},
 "nbformat": 4,
 "nbformat_minor": 5
}
